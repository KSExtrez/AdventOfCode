{
 "metadata": {
  "language_info": {
   "codemirror_mode": {
    "name": "ipython",
    "version": 3
   },
   "file_extension": ".py",
   "mimetype": "text/x-python",
   "name": "python",
   "nbconvert_exporter": "python",
   "pygments_lexer": "ipython3",
   "version": "3.8.6-final"
  },
  "orig_nbformat": 2,
  "kernelspec": {
   "name": "python3",
   "display_name": "Python 3.8.6 64-bit",
   "metadata": {
    "interpreter": {
     "hash": "8d6378f5bcdaaa4f696fc0d2709447fef74e02f2b6a6d90fbd23174aeb80b425"
    }
   }
  }
 },
 "nbformat": 4,
 "nbformat_minor": 2,
 "cells": [
  {
   "source": [
    "# Day 2: Password Philosophy\n",
    "## Setup\n",
    "First whe need loads the input data."
   ],
   "cell_type": "markdown",
   "metadata": {}
  },
  {
   "cell_type": "code",
   "execution_count": 31,
   "metadata": {},
   "outputs": [],
   "source": [
    "def loadInput() -> list:\n",
    "    file = open(\"input.txt\", \"r\")\n",
    "    input = []\n",
    "    for line in file.readlines():\n",
    "        text = line.split()\n",
    "        numbers = text[0].split(\"-\")\n",
    "        character = text[1][:1]\n",
    "        password = text[2]\n",
    "        input.append((int(numbers[0]), int(numbers[1]), character, password))\n",
    "    return input\n"
   ]
  },
  {
   "cell_type": "code",
   "execution_count": 32,
   "metadata": {
    "tags": []
   },
   "outputs": [],
   "source": [
    "inputData = loadInput()\n",
    "sampleData = [\n",
    "    [1, 3, 'a', 'abcde'], \n",
    "    [1, 3, 'b', 'cdefg'], \n",
    "    [2, 9, 'c', 'ccccccccc'], \n",
    "]"
   ]
  },
  {
   "source": [
    "## Let's start to code!!"
   ],
   "cell_type": "markdown",
   "metadata": {}
  },
  {
   "source": [
    "def firstTry(policies: list) -> int:\n",
    "    count = 0\n",
    "\n",
    "    for policie in policies:\n",
    "        min = policie[0]\n",
    "        max = policie[1]\n",
    "        character = policie[2]\n",
    "        password = policie[3]\n",
    "        \n",
    "        charCount = password.count(character)\n",
    "\n",
    "        if charCount >= min and charCount <= max:\n",
    "            count += 1\n",
    "\n",
    "    return count"
   ],
   "cell_type": "code",
   "metadata": {},
   "execution_count": 33,
   "outputs": []
  },
  {
   "cell_type": "code",
   "execution_count": 34,
   "metadata": {},
   "outputs": [
    {
     "output_type": "stream",
     "name": "stdout",
     "text": [
      "Solution: 383\n"
     ]
    }
   ],
   "source": [
    "solution = firstTry(inputData)\n",
    "print(f\"Solution: {solution}\")"
   ]
  },
  {
   "source": [
    "## Test\n",
    "It looks good, but we need make a little test to ensure that the answer it's correct."
   ],
   "cell_type": "markdown",
   "metadata": {}
  },
  {
   "cell_type": "code",
   "execution_count": 35,
   "metadata": {},
   "outputs": [],
   "source": [
    "assert(firstTry(sampleData) == 2)"
   ]
  },
  {
   "cell_type": "code",
   "execution_count": 36,
   "metadata": {},
   "outputs": [
    {
     "output_type": "stream",
     "name": "stdout",
     "text": [
      "488 µs ± 116 µs per loop (mean ± std. dev. of 10 runs, 5 loops each)\n"
     ]
    }
   ],
   "source": [
    "%timeit -r10 -n 5 firstTry(inputData)"
   ]
  },
  {
   "source": [
    "## Challenge completed successfully 🎆"
   ],
   "cell_type": "markdown",
   "metadata": {}
  }
 ]
}