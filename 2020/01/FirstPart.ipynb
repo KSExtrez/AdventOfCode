{
 "metadata": {
  "language_info": {
   "codemirror_mode": {
    "name": "ipython",
    "version": 3
   },
   "file_extension": ".py",
   "mimetype": "text/x-python",
   "name": "python",
   "nbconvert_exporter": "python",
   "pygments_lexer": "ipython3",
   "version": "3.8.6-final"
  },
  "orig_nbformat": 2,
  "kernelspec": {
   "name": "python3",
   "display_name": "Python 3.8.6 64-bit",
   "metadata": {
    "interpreter": {
     "hash": "8d6378f5bcdaaa4f696fc0d2709447fef74e02f2b6a6d90fbd23174aeb80b425"
    }
   }
  }
 },
 "nbformat": 4,
 "nbformat_minor": 2,
 "cells": [
  {
   "source": [
    "# Day 1: Report Repair\n",
    "## Setup\n",
    "First whe need loads the input data."
   ],
   "cell_type": "markdown",
   "metadata": {}
  },
  {
   "cell_type": "code",
   "execution_count": 1,
   "metadata": {},
   "outputs": [],
   "source": [
    "def loadInput() -> list:\n",
    "    file = open(\"input.txt\", \"r\")\n",
    "    input = []\n",
    "    for line in file.readlines():\n",
    "        input.append(int(line[:-1]))\n",
    "    return input\n"
   ]
  },
  {
   "cell_type": "code",
   "execution_count": 2,
   "metadata": {},
   "outputs": [],
   "source": [
    "inputData = loadInput()\n",
    "sampleData = [1721, 979, 366, 299, 675, 1456]"
   ]
  },
  {
   "source": [
    "## Let's start to code!!"
   ],
   "cell_type": "markdown",
   "metadata": {}
  },
  {
   "source": [
    "This first try i create a simple function, but this solution it's too slow (`Big O(n²)`).\n",
    "I think i can improve the performance."
   ],
   "cell_type": "markdown",
   "metadata": {}
  },
  {
   "cell_type": "code",
   "execution_count": 3,
   "metadata": {},
   "outputs": [],
   "source": [
    "def firstTry(numbers: list) -> int:\n",
    "    for number1 in numbers:\n",
    "        for number2 in numbers:\n",
    "            if number1 + number2 == 2020:\n",
    "                return number1 * number2"
   ]
  },
  {
   "cell_type": "code",
   "execution_count": 4,
   "metadata": {},
   "outputs": [
    {
     "output_type": "stream",
     "name": "stdout",
     "text": [
      "Solution: 964875\n"
     ]
    }
   ],
   "source": [
    "solution = firstTry(inputData)\n",
    "print(f\"Solution: {solution}\")"
   ]
  },
  {
   "source": [
    "I improve the performance, this solution have `Big O(n)`,  now looks good 👌🏼"
   ],
   "cell_type": "markdown",
   "metadata": {}
  },
  {
   "cell_type": "code",
   "execution_count": 5,
   "metadata": {},
   "outputs": [],
   "source": [
    "def secondTry(numbers: list) -> int:\n",
    "    dic = {}\n",
    "    for number in numbers:\n",
    "        dic[number] = True\n",
    "\n",
    "        toFind = 2020 - number\n",
    "\n",
    "        if dic.get(toFind):\n",
    "            return number * toFind"
   ]
  },
  {
   "cell_type": "code",
   "execution_count": 6,
   "metadata": {},
   "outputs": [
    {
     "output_type": "stream",
     "name": "stdout",
     "text": [
      "Solution: 964875\n"
     ]
    }
   ],
   "source": [
    "solution = secondTry(inputData)\n",
    "print(f\"Solution: {solution}\")"
   ]
  },
  {
   "source": [
    "## Test\n",
    "It looks good, but we need make a little test to ensure that the answer it's correct."
   ],
   "cell_type": "markdown",
   "metadata": {}
  },
  {
   "cell_type": "code",
   "execution_count": 7,
   "metadata": {},
   "outputs": [],
   "source": [
    "assert(firstTry(sampleData) == 514579)\n",
    "assert(secondTry(sampleData) == 514579)"
   ]
  },
  {
   "source": [
    "## Performance\n",
    "The second solution has been executed 22x faster."
   ],
   "cell_type": "markdown",
   "metadata": {}
  },
  {
   "cell_type": "code",
   "execution_count": 8,
   "metadata": {},
   "outputs": [
    {
     "output_type": "stream",
     "name": "stdout",
     "text": [
      "2.72 ms ± 432 µs per loop (mean ± std. dev. of 10 runs, 5 loops each)\n",
      "123 µs ± 40.4 µs per loop (mean ± std. dev. of 10 runs, 5 loops each)\n"
     ]
    }
   ],
   "source": [
    "%timeit -r 10 -n 5 firstTry(inputData)\n",
    "%timeit -r 10 -n 5 secondTry(inputData)"
   ]
  },
  {
   "source": [
    "## Challenge completed successfully 🎆"
   ],
   "cell_type": "markdown",
   "metadata": {}
  }
 ]
}